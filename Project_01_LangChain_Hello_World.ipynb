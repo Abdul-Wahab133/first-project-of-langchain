{
  "nbformat": 4,
  "nbformat_minor": 0,
  "metadata": {
    "colab": {
      "provenance": [],
      "authorship_tag": "ABX9TyPaZ8LM3rs1SSI1fH86etWS",
      "include_colab_link": true
    },
    "kernelspec": {
      "name": "python3",
      "display_name": "Python 3"
    },
    "language_info": {
      "name": "python"
    }
  },
  "cells": [
    {
      "cell_type": "markdown",
      "metadata": {
        "id": "view-in-github",
        "colab_type": "text"
      },
      "source": [
        "<a href=\"https://colab.research.google.com/github/Abdul-Wahab133/first-repo-python/blob/main/Project_01_LangChain_Hello_World.ipynb\" target=\"_parent\"><img src=\"https://colab.research.google.com/assets/colab-badge.svg\" alt=\"Open In Colab\"/></a>"
      ]
    },
    {
      "cell_type": "code",
      "execution_count": null,
      "metadata": {
        "colab": {
          "base_uri": "https://localhost:8080/"
        },
        "id": "czsTOhEx_ODw",
        "outputId": "b75dfae8-69ee-424f-84a0-ec7dfe65a59f"
      },
      "outputs": [
        {
          "output_type": "stream",
          "name": "stdout",
          "text": [
            "Enter your question about tech and programming. \n",
            "Which frameworks and programming language is best to make ai agents?.\n",
            "\n",
            " Okay, let's break down the best frameworks and programming languages for building AI agents. It's a multi-faceted question, as the \"best\" option often depends on the specific type of agent you're creating and your priorities.\n",
            "\n",
            "**Programming Languages:**\n",
            "\n",
            "1.  **Python:** This is by far the most popular language for AI and machine learning, and thus, for AI agents. Here's why:\n",
            "    *   **Extensive Libraries:** Python boasts a rich ecosystem of libraries like:\n",
            "        *   **TensorFlow & PyTorch:** For deep learning, neural networks, and reinforcement learning.\n",
            "        *   **Scikit-learn:** For traditional machine learning algorithms (classification, regression, clustering, etc.).\n",
            "        *   **NLTK & SpaCy:** For natural language processing (NLP).\n",
            "        *   **OpenAI Gym & Stable Baselines:** For reinforcement learning environments and algorithms.\n",
            "        *   **LangChain & LlamaIndex:** For building applications that interact with Large Language Models (LLMs).\n",
            "    *   **Ease of Use:** Python's clear syntax and readability make it easier to learn and develop with.\n",
            "    *   **Large Community:** A massive community means plenty of resources, tutorials, and support.\n",
            "    *   **Rapid Prototyping:** Python allows for faster experimentation and iteration.\n",
            "\n",
            "2.  **Java:** While less dominant than Python in the broader AI landscape, Java is a strong contender for specific agent applications:\n",
            "    *   **Enterprise-Grade:** Java is known for its stability, scalability, and performance, making it suitable for large-scale, production-ready systems.\n",
            "    *   **JVM Ecosystem:** The Java Virtual Machine (JVM) allows for cross-platform compatibility.\n",
            "    *   **Libraries:** Libraries like Deeplearning4j exist for deep learning, though they are not as mature as their Python counterparts.\n",
            "    *   **Android Development:** Java is often used for AI agents that run on Android devices.\n",
            "\n",
            "3.  **C++:**  This language is often used when performance is critical:\n",
            "    *   **Performance:** C++ offers low-level control and is highly performant, making it ideal for computationally intensive tasks.\n",
            "    *   **Game AI:** C++ is frequently used in game development for creating intelligent game agents.\n",
            "    *   **Custom Implementations:** You might choose C++ if you need to build highly optimized, custom algorithms.\n",
            "    *   **Complex Systems:** C++ is often used to create complex, real-time AI systems.\n",
            "\n",
            "4.  **JavaScript:** Becoming increasingly relevant with the rise of browser-based AI:\n",
            "    *   **Web Development:** JavaScript is the language of the web, allowing for AI agents to be embedded directly into web applications.\n",
            "    *   **TensorFlow.js:** Allows you to train and run machine learning models directly in the browser.\n",
            "    *   **Node.js:**  Can be used for server-side AI agent development.\n",
            "\n",
            "5.  **Other Languages:**\n",
            "    *   **R:** Primarily used for statistical analysis and data visualization, but can be used for certain types of AI agents, especially in research.\n",
            "    *   **Julia:**  A newer language gaining traction in scientific computing and AI. It aims for high performance and ease of use.\n",
            "\n",
            "**Frameworks:**\n",
            "\n",
            "Here's a breakdown of frameworks, categorized by their primary use:\n",
            "\n",
            "1.  **Deep Learning Frameworks (Neural Networks):**\n",
            "    *   **TensorFlow (Python):** A powerful, versatile framework developed by Google. It's widely used for building and deploying neural networks.\n",
            "    *   **PyTorch (Python):** Developed by Facebook, PyTorch is known for its flexibility, ease of use, and dynamic computational graphs, making it popular for research and rapid prototyping.\n",
            "    *   **Keras (Python):** A high-level API that can run on top of TensorFlow, PyTorch, or other backends. It simplifies the process of building neural networks.\n",
            "    *   **Deeplearning4j (Java):** A deep learning library for Java and other JVM languages.\n",
            "\n",
            "2.  **Reinforcement Learning Frameworks:**\n",
            "    *   **OpenAI Gym (Python):** A toolkit for developing and comparing reinforcement learning algorithms. It provides a wide range of environments to train agents.\n",
            "    *   **Stable Baselines (Python):** A set of high-quality implementations of reinforcement learning algorithms, built on top of TensorFlow or PyTorch.\n",
            "    *   **RLlib (Python):** A scalable and flexible reinforcement learning library from Ray.\n",
            "\n",
            "3.  **Natural Language Processing (NLP) Frameworks:**\n",
            "    *   **NLTK (Python):** A fundamental library for NLP tasks like tokenization, stemming, and part-of-speech tagging.\n",
            "    *   **SpaCy (Python):** A more advanced library focused on production-ready NLP tasks, known for its speed and efficiency.\n",
            "    *   **Hugging Face Transformers (Python):** A library providing access to pre-trained transformer models for various NLP tasks.\n",
            "\n",
            "4. **Agent Development Frameworks**\n",
            "   * **LangChain (Python):** A framework for building applications powered by Large Language Models (LLMs). It provides tools for connecting LLMs to data sources, tools, and other agents.\n",
            "   * **LlamaIndex (Python):** A framework for building applications that can query and reason over your data. It provides tools for indexing and querying data, and for integrating LLMs into your applications.\n",
            "\n",
            "5.  **General Machine Learning Frameworks:**\n",
            "    *   **Scikit-learn (Python):** A comprehensive library for traditional machine learning algorithms, including classification, regression, clustering, and dimensionality reduction.\n",
            "\n",
            "**Which is \"Best\"?**\n",
            "\n",
            "There's no one-size-fits-all answer. Here's a general guideline:\n",
            "\n",
            "*   **For most AI agent projects, especially those involving deep learning, reinforcement learning, or NLP, Python is the clear choice.** Its rich ecosystem of libraries and ease of use make it the most productive option.\n",
            "*   **If you need enterprise-grade scalability and stability, Java can be a good option.**\n",
            "*   **If performance is absolutely critical, C++ might be necessary.**\n",
            "*   **If you are building web-based AI agents, JavaScript is a natural fit.**\n",
            "*   **If you are building agents that interact with LLMs, LangChain or LlamaIndex are very useful.**\n",
            "\n",
            "**Recommendations:**\n",
            "\n",
            "*   **Start with Python:** If you're new to AI agent development, Python is the best starting point due to its extensive resources and ease of use.\n",
            "*   **Focus on the Task:** Choose frameworks based on the specific type of AI agent you're building.\n",
            "*   **Experiment:** Try different frameworks and libraries to see which ones best suit your needs.\n",
            "*   **Stay Updated:** The AI field is rapidly evolving, so keep an eye on new tools and techniques.\n",
            "\n",
            "**In summary:**\n",
            "\n",
            "For the vast majority of AI agent projects, **Python, along with libraries like TensorFlow, PyTorch, Scikit-learn, OpenAI Gym, LangChain, and LlamaIndex, will be the most effective combination.** However, the best choice ultimately depends on the specific requirements of your project.\n",
            "\n"
          ]
        }
      ],
      "source": [
        "!pip install -U -q langchain langchain-google-genai\n",
        "from langchain_google_genai import ChatGoogleGenerativeAI\n",
        "from google.colab import userdata\n",
        "import os\n",
        "os.environ[\"GOOGLE_API_KEY\"] = userdata.get('GOOGLE_API_KEY')\n",
        "\n",
        "model = ChatGoogleGenerativeAI(\n",
        "    api_key = userdata.get('GOOGLE_API_KEY'),\n",
        "    model = \"gemini-2.0-flash-exp\",\n",
        "    temperature=0.5\n",
        ")\n",
        "\n",
        "from langchain.prompts import PromptTemplate\n",
        "\n",
        "Prompt_Template = PromptTemplate(\n",
        "    input_variable = [\"Question\"],\n",
        "    template = \"You are helpful and smart assistant. Answer the following question \\n\\n {Question}\"\n",
        ")\n",
        "\n",
        "from langchain.chains import LLMChain\n",
        "\n",
        "Chains = LLMChain( llm = model, prompt = Prompt_Template)\n",
        "Question : str = input(\"Enter your question about tech and programming. \\n\")\n",
        "response = Chains.run({\"Question\": Question })\n",
        "print('\\n',response)\n",
        "\n",
        "\n",
        "\n"
      ]
    }
  ]
}